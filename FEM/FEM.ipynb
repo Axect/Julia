{
 "cells": [
  {
   "cell_type": "markdown",
   "metadata": {},
   "source": [
    "# Simpson's Rule"
   ]
  },
  {
   "cell_type": "markdown",
   "metadata": {},
   "source": [
    "$$\\int_a^b f(x) dx = \\frac{b-a}{6}\\left( f(a) + 4f(\\frac{a+b}{2}) + f(b) \\right)$$"
   ]
  },
  {
   "cell_type": "code",
   "execution_count": 2,
   "metadata": {},
   "outputs": [
    {
     "data": {
      "text/plain": [
       "Simpson (generic function with 1 method)"
      ]
     },
     "execution_count": 2,
     "metadata": {},
     "output_type": "execute_result"
    }
   ],
   "source": [
    "function Simpson(f, a, b)\n",
    "    return (b - a)/6 * (f(a) + 4*f((a+b)/2) + f(b))\n",
    "end"
   ]
  },
  {
   "cell_type": "code",
   "execution_count": 3,
   "metadata": {},
   "outputs": [
    {
     "data": {
      "text/plain": [
       "2.0943951023931953"
      ]
     },
     "execution_count": 3,
     "metadata": {},
     "output_type": "execute_result"
    }
   ],
   "source": [
    "Simpson(sin, 0, pi)"
   ]
  },
  {
   "cell_type": "code",
   "execution_count": 4,
   "metadata": {},
   "outputs": [
    {
     "data": {
      "text/plain": [
       "6.412235645739299e-17"
      ]
     },
     "execution_count": 4,
     "metadata": {},
     "output_type": "execute_result"
    }
   ],
   "source": [
    "Simpson(x -> sin(x) * cos(x), 0, pi)"
   ]
  },
  {
   "cell_type": "code",
   "execution_count": 6,
   "metadata": {},
   "outputs": [
    {
     "data": {
      "text/plain": [
       "K (generic function with 1 method)"
      ]
     },
     "execution_count": 6,
     "metadata": {},
     "output_type": "execute_result"
    }
   ],
   "source": [
    "function K(c, n)\n",
    "    h = 1/n\n",
    "    K = zeros(n, n)\n",
    "    for i = 1:n\n",
    "        K[i,i] = Simpson(c, (i-1)*h, (i+1)*h) / h^2\n",
    "        if i < n\n",
    "            v = -Simpson(c, i*h, (i+1)*h) / h^2\n",
    "            K[i,i+1] = v\n",
    "            K[i+1,i] = v\n",
    "        end\n",
    "    end\n",
    "    return K\n",
    "end"
   ]
  },
  {
   "cell_type": "code",
   "execution_count": 13,
   "metadata": {},
   "outputs": [
    {
     "data": {
      "text/plain": [
       "5×5 Array{Float64,2}:\n",
       "  8.0  -3.5   0.0   0.0   0.0        \n",
       " -3.5   6.0  -2.5   0.0   0.0        \n",
       "  0.0  -2.5   4.0  -1.5   0.0        \n",
       "  0.0   0.0  -1.5   2.0  -0.5        \n",
       "  0.0   0.0   0.0  -0.5  -3.70074e-16"
      ]
     },
     "execution_count": 13,
     "metadata": {},
     "output_type": "execute_result"
    }
   ],
   "source": [
    "K(x -> 1-x, 5)"
   ]
  },
  {
   "cell_type": "code",
   "execution_count": 12,
   "metadata": {},
   "outputs": [
    {
     "data": {
      "text/plain": [
       "F (generic function with 1 method)"
      ]
     },
     "execution_count": 12,
     "metadata": {},
     "output_type": "execute_result"
    }
   ],
   "source": [
    "function F(f, n)\n",
    "    h = 1/n\n",
    "    F = zeros(n)\n",
    "    for i = 1:n\n",
    "        F[i] = Simpson(x -> f(x)*(x/h - i + 1), (i-1)*h, i*h) \n",
    "        + Simpson(x -> f(x) * (-x/h + i + 1), i*h, (i+1)*h)\n",
    "    end\n",
    "    return F\n",
    "end"
   ]
  },
  {
   "cell_type": "code",
   "execution_count": 14,
   "metadata": {},
   "outputs": [
    {
     "data": {
      "text/plain": [
       "5-element Array{Float64,1}:\n",
       " 0.08666666666666667 \n",
       " 0.06666666666666668 \n",
       " 0.04666666666666669 \n",
       " 0.02666666666666666 \n",
       " 0.006666666666666664"
      ]
     },
     "execution_count": 14,
     "metadata": {},
     "output_type": "execute_result"
    }
   ],
   "source": [
    "F(x -> 1-x, 5)"
   ]
  }
 ],
 "metadata": {
  "kernelspec": {
   "display_name": "Julia 1.1.1",
   "language": "julia",
   "name": "julia-1.1"
  },
  "language_info": {
   "file_extension": ".jl",
   "mimetype": "application/julia",
   "name": "julia",
   "version": "1.1.1"
  }
 },
 "nbformat": 4,
 "nbformat_minor": 2
}
